{
 "cells": [
  {
   "cell_type": "markdown",
   "metadata": {},
   "source": [
    "<a name=\"top\"></a>\n",
    "\n",
    "<div style=\"width:1000 px\">\n",
    "\n",
    "<div style=\"float:right; width:300 px\"><img src=\"https://github.com/brianmapes/ATM407/blob/master/images/Thermalwind.png?raw=true\" alt=\"Thermal wind exercise image\" style=\"height: 200px;\"></div>\n",
    "\n",
    "\n",
    "<h1>Assignment LMT_2.1</h1>\n",
    "<h3>ATM 407, University of Miami</h3>\n",
    "\n",
    "* To use these Jupyter notebooks, you need to have installed the DRILSDOWN package:  \n",
    "https://unidata.github.io/drilsdown/ )\n",
    "\n",
    "\n",
    "### Activities\n",
    "1. <a href=\"#Exercise1\">Some math about it</a>\n",
    "1. <a href=\"#Exercise2\">Load an IDV bundle</a>\n",
    "1. <a href=\"#Exercise3\">Capture and caption a main display image</a>\n",
    "1. <a href=\"#Exercise4\">Capture and caption a secondary display</a>\n",
    "1. <a href=\"#Exercise5\">Capture and caption an animation</a>\n",
    "\n",
    "<div style=\"clear:both\"></div>\n",
    "</div>\n",
    "\n",
    "<hr style=\"height:2px;\">"
   ]
  },
  {
   "cell_type": "markdown",
   "metadata": {},
   "source": [
    "### Background\n",
    "The primitive equations:\n",
    "1. Horizontal acceleration equation (F=ma):\n",
    "$$ \\frac{D}{Dt} \\vec V_h = -f \\hat k \\times \\vec V_h - \\vec \\nabla_p \\Phi +\\vec F_r  $$\n",
    "or, in component form, \n",
    "$$ \\frac{Du}{Dt} = fv  - \\frac{\\partial \\Phi}{\\partial x} +F $$\n",
    "$$ \\frac{Dv}{Dt} = -fu - \\frac{\\partial \\Phi}{\\partial y} +G $$\n",
    "\n",
    "1. Vertical acceleration equation (aka Hydrostatic balance): \n",
    "$$ \\frac {\\partial \\Phi}{\\partial p} = - \\alpha \\equiv -\\frac{1}{\\rho} = \\frac{RT}{p} $$\n",
    "1. Mass continuity: \n",
    "$$ 0 = \\frac {\\partial u}{\\partial x} + \\frac {\\partial v}{\\partial y}  + \\frac {\\partial \\omega}{\\partial p} $$\n",
    "1. First Law of thermodynamics: \n",
    "$$ \\frac {D \\theta}{Dt} = J/C_p \\frac {\\theta} {T}$$\n",
    "\n",
    "\n",
    "Now suppose the flow is in geostrophic balance (dV/dt=0, F=G=0). This defines the geostrophic wind:  \n",
    "$$ fv_g = +\\frac{\\partial \\Phi}{\\partial x}$$\n",
    "$$ fu_g = -\\frac{\\partial \\Phi}{\\partial y}$$\n",
    "\n",
    "\n",
    "<hr style=\"height:2px;\">"
   ]
  },
  {
   "cell_type": "markdown",
   "metadata": {},
   "source": [
    "<a name=\"Exercise1\"></a> \n",
    "<div class=\"alert alert-success\">\n",
    "    <b>EXERCISE 1</b>:\n",
    "     <ul>\n",
    "\n",
    "<li>Take the derivative. </li>\n",
    "      <li>Express the *result* correctly in the cell below. Learn how to typeset equation from the cell above. </li>\n",
    "    </ul>\n",
    "</div>"
   ]
  },
  {
   "cell_type": "markdown",
   "metadata": {
    "collapsed": true
   },
   "source": [
    "## Exercise 1 Answer: The thermal wind is\n",
    "$\\frac {\\partial u_g}{\\partial Z}$ = \n",
    "\n",
    "$\\frac {\\partial v_g}{\\partial Z}$ = \n"
   ]
  },
  {
   "cell_type": "markdown",
   "metadata": {},
   "source": [
    "<hr style=\"height:2px;\">\n",
    "<a href=\"#top\">Top</a>\n",
    "<hr style=\"height:2px;\">"
   ]
  },
  {
   "cell_type": "markdown",
   "metadata": {},
   "source": [
    "<a name=\"Exercise2\"></a> \n",
    "## Step 2: Invoke the drilsdown extension. Then find and load the bundle in IDV.\n",
    "Execute the code cell below. \n",
    "\n",
    "Then, launch an IDV session and load the bundle in it. You can do this manually, or -- in the widget that pops up, search The Mapes IDV Collection for the bundle name such as *LMT_1.2*, and click the button next to it labeled **Load bundle**. "
   ]
  },
  {
   "cell_type": "markdown",
   "metadata": {},
   "source": [
    "<div class=\"alert alert-info\">\n",
    "    <b>Note</b>: please email mapes@miami.edu if you encounter any errors\n",
    "</div>"
   ]
  },
  {
   "cell_type": "code",
   "execution_count": 3,
   "metadata": {},
   "outputs": [],
   "source": [
    "%reload_ext ipython_IDV"
   ]
  },
  {
   "cell_type": "markdown",
   "metadata": {},
   "source": [
    "<a href=\"#top\">Top</a>\n",
    "<hr style=\"height:2px;\">"
   ]
  },
  {
   "cell_type": "markdown",
   "metadata": {},
   "source": [
    "<a name=\"Exercise3\"></a> \n",
    "<div class=\"alert alert-success\">\n",
    "    <b>EXERCISE 3</b>:\n",
    "     <ul>\n",
    "      <li>**Following the instructions in the Manual, answer question 1 here:** *\"isolate an area where the three-layer vertical structure of blue, green, and red isosurfaces is clear. Capture an image (View > Capture > Image or use your computer’s screen capture capabilities), and describe what you see there\"*\n",
    "      </li>\n",
    "      <li>**If you need another make_image to tell the story, just duplicate the cell below**\n",
    "      </li>\n",
    "    </ul>\n",
    "</div>"
   ]
  },
  {
   "cell_type": "code",
   "execution_count": 5,
   "metadata": {},
   "outputs": [
    {
     "name": "stderr",
     "output_type": "stream",
     "text": [
      "UsageError: Line magic function `%make_image` not found.\n"
     ]
    }
   ],
   "source": [
    "# Your image \n",
    "%make_image -capture legend -caption 'Exercise 3'"
   ]
  },
  {
   "cell_type": "markdown",
   "metadata": {
    "collapsed": true
   },
   "source": [
    "LMT_1.2 Question 1 verbal answer: \n",
    "\n",
    "\n",
    "Ipsem lorem "
   ]
  },
  {
   "cell_type": "markdown",
   "metadata": {},
   "source": [
    "<a href=\"#top\">Top</a>\n",
    "<hr style=\"height:2px;\">"
   ]
  },
  {
   "cell_type": "markdown",
   "metadata": {},
   "source": [
    "<a name=\"Exercise4\"></a> \n",
    "<div class=\"alert alert-success\">\n",
    "    <b>EXERCISE 4</b>:\n",
    "     <ul>\n",
    "      <li>**Capture another image, and answer the questions below.**\n",
    "      </li>\n",
    "    </ul>\n",
    "</div>"
   ]
  },
  {
   "cell_type": "code",
   "execution_count": 6,
   "metadata": {},
   "outputs": [
    {
     "name": "stderr",
     "output_type": "stream",
     "text": [
      "UsageError: Line magic function `%make_image` not found.\n"
     ]
    }
   ],
   "source": [
    "# To use this feature, the IDV sounding display must have its ID set to this name (sounding)\n",
    "# in the Display Control's Properties area. \n",
    "\n",
    "%make_image -capture legend "
   ]
  },
  {
   "cell_type": "markdown",
   "metadata": {
    "collapsed": true
   },
   "source": [
    "## Exercise 4 answer: \n",
    "\n",
    "\n",
    "Ipsem lorem "
   ]
  },
  {
   "cell_type": "markdown",
   "metadata": {},
   "source": [
    "<a href=\"#top\">Top</a>\n",
    "<hr style=\"height:2px;\">"
   ]
  },
  {
   "cell_type": "markdown",
   "metadata": {},
   "source": [
    "##### <a name=\"Exercise4\"></a> \n",
    "<div class=\"alert alert-success\">\n",
    "    <b>EXERCISE 5</b>:\n",
    "     <ul>\n",
    "     \n",
    "      <li>**Use the right mouse button to suppress (make red) all but 3 time levels in the animation, focusing on the time around or just after the time you used for Exercise 2a. Capture the animation using the cell below.**\n",
    "      </li>\n",
    "      \n",
    "      <li>**Does the cold or warm air advance as you anticipated from Exercise 3a? Does the sounding show a decrease of temperature with time?**\n",
    "      </li>\n",
    "      \n",
    "      <li>**What does this mean about the terms in the First Law? Is the horizontal advection term the dominant effect?**\n",
    "      </li>\n",
    "\n",
    "    </ul>\n",
    "</div>"
   ]
  },
  {
   "cell_type": "code",
   "execution_count": 8,
   "metadata": {},
   "outputs": [],
   "source": [
    "%make_movie -capture legend -caption 'Exercise 3'"
   ]
  },
  {
   "cell_type": "markdown",
   "metadata": {
    "collapsed": true
   },
   "source": [
    "## Exercise 3b answer: \n",
    "\n",
    "The animation shows ___. \n",
    "\n",
    "This means ___.\n"
   ]
  },
  {
   "cell_type": "markdown",
   "metadata": {},
   "source": [
    "<a href=\"#top\">Top</a>\n",
    "<hr style=\"height:2px;\">"
   ]
  },
  {
   "cell_type": "markdown",
   "metadata": {},
   "source": [
    "<a name=\"Exercise4\"></a> \n",
    "<div class=\"alert alert-success\">\n",
    "    <b>EXERCISE 4</b>:\n",
    "     <ul>\n",
    "           \n",
    "<li>** \n",
    "      Make a new IDV Flow Display of the Thermal Wind. To do this, use the Field Selector to display Formulas-->Miscellaneous-->simple difference a-b. Select \"a\" to be the 3D-->Derived-->geostrophic wind, at 50000Pa (careful!), and select b to be the geostrophic wind at 850000Pa.\n",
    "      **</li>\n",
    "\n",
    "<li>** \n",
    "     Capture an image of your flow display (vectors, or barbs, or streamlines -- explore!) overlaid on the 700hPa temperature display. \n",
    "      **</li>\n",
    "\n",
    "\n",
    "    </ul>\n",
    "</div>"
   ]
  },
  {
   "cell_type": "code",
   "execution_count": 4,
   "metadata": {},
   "outputs": [
    {
     "name": "stdout",
     "output_type": "stream",
     "text": [
      "tempfile.tempdir = '/var/folders/cx/744cq3h94zq66_v0ms6wg8m40000gn/T'\n",
      "tempfile.gettempdir() = '/var/folders/cx/744cq3h94zq66_v0ms6wg8m40000gn/T'\n"
     ]
    },
    {
     "data": {
      "image/png": "[encoded data removed]",
      "text/plain": [
       "<IPython.core.display.Image object>"
      ]
     },
     "execution_count": 4,
     "metadata": {},
     "output_type": "execute_result"
    }
   ],
   "source": [
    "# Your image \n",
    "%make_image -capture legend -caption 'Exercise 4'"
   ]
  },
  {
   "cell_type": "markdown",
   "metadata": {},
   "source": [
    "<div class=\"alert alert-success\">\n",
    "    <b>EXERCISE 4</b>:\n",
    "     <ul>\n",
    "       \n",
    "<li>** \n",
    "    What is the relationship? Does the thermal wind advect temperature? \n",
    "      **</li>\n",
    "\n",
    "\n",
    "<li>** \n",
    "      $V_{g,lower} + V_{thermal} = V_{g,upper}$ is the way we customarily speak of the thermal wind.\n",
    "      **</li>\n",
    "\n",
    "\n",
    "<li>** \n",
    "      Temperature advection by the geostrophic wind at 500 hPa is thus $(V_{g,850} + V_{thermal}) \\cdot \\nabla T$. What can you say about its relationship to temperature advection at 850?\n",
    "      **</li>\n",
    "\n",
    "    </ul>\n",
    "</div>"
   ]
  },
  {
   "cell_type": "markdown",
   "metadata": {
    "collapsed": true
   },
   "source": [
    "## Exercise 4 answer: \n",
    "\n",
    "Ipsem lorem"
   ]
  },
  {
   "cell_type": "markdown",
   "metadata": {},
   "source": [
    "<a href=\"#top\">Top</a>\n",
    "<hr style=\"height:2px;\">"
   ]
  },
  {
   "cell_type": "markdown",
   "metadata": {},
   "source": [
    "<a name=\"Exercise5\"></a> \n",
    "<div class=\"alert alert-success\">\n",
    "    <b>EXERCISE 5</b>:\n",
    "     <ul>\n",
    "           \n",
    "<li>** \n",
    "      Activate the yellow isosurface of wind speed (the jet stream), and the cross sections displays. Deactivate the other displays. Move the cross sections to cut across today's jet stream along the west coast. \n",
    "      **</li>\n",
    "\n",
    "<li>** \n",
    "      Take a view from the south (using the little cube with the blue south face), and adjust it a little so you can see the cross section well, but also the geography.\n",
    "      **</li>\n",
    "\n",
    "<li>** \n",
    "      Capture an image of the cross-section with wind speed contours with a backdrop of T, and a backdrop of theta. \n",
    "      **</li>\n",
    "\n",
    "\n",
    "    </ul>\n",
    "</div>"
   ]
  },
  {
   "cell_type": "code",
   "execution_count": 8,
   "metadata": {},
   "outputs": [
    {
     "name": "stdout",
     "output_type": "stream",
     "text": [
      "tempfile.tempdir = '/var/folders/cx/744cq3h94zq66_v0ms6wg8m40000gn/T'\n",
      "tempfile.gettempdir() = '/var/folders/cx/744cq3h94zq66_v0ms6wg8m40000gn/T'\n"
     ]
    },
    {
     "data": {
      "image/png": "[encoded data removed]",
      "text/plain": [
       "<IPython.core.display.Image object>"
      ]
     },
     "execution_count": 8,
     "metadata": {},
     "output_type": "execute_result"
    }
   ],
   "source": [
    "# Your image \n",
    "%make_image -capture legend -caption 'Exercise 5'"
   ]
  },
  {
   "cell_type": "markdown",
   "metadata": {
    "collapsed": true
   },
   "source": [
    "** Which side if the jet is the cold side, and which is the warm side (in the troposphere, and in the stratosphere)? If this jet stream excursion into US latitudes is viewed as a \"vortex\", is it warm-core or cool-core in the troposphere? **\n",
    "     \n",
    "      \n",
    "**From an examination of the relvort isosurface, at what altitude is the vorticity of this vortex strongest? **\n",
    "\n",
    "\n",
    "## Exercise 5 answer: \n",
    "\n",
    "Ipsem lorem"
   ]
  },
  {
   "cell_type": "markdown",
   "metadata": {},
   "source": [
    "<a href=\"#top\">Top</a>\n",
    "<hr style=\"height:2px;\">"
   ]
  },
  {
   "cell_type": "markdown",
   "metadata": {},
   "source": [
    "# Upload this notebook to your GitHub area. "
   ]
  },
  {
   "cell_type": "markdown",
   "metadata": {},
   "source": [
    "<a href=\"#top\">Top</a>\n",
    "<hr style=\"height:2px;\">"
   ]
  }
 ],
 "metadata": {
  "anaconda-cloud": {},
  "kernelspec": {
   "display_name": "Python 3",
   "language": "python",
   "name": "python3"
  },
  "language_info": {
   "codemirror_mode": {
    "name": "ipython",
    "version": 3
   },
   "file_extension": ".py",
   "mimetype": "text/x-python",
   "name": "python",
   "nbconvert_exporter": "python",
   "pygments_lexer": "ipython3",
   "version": "3.6.4"
  },
  "widgets": {
   "state": {
    "bcdf933568754ca588f0124814958a04": {
     "views": [
      {
       "cell_index": 7
      }
     ]
    }
   },
   "version": "1.2.0"
  }
 },
 "nbformat": 4,
 "nbformat_minor": 1
}
